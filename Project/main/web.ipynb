{
 "cells": [
  {
   "cell_type": "code",
   "execution_count": null,
   "metadata": {},
   "outputs": [],
   "source": [
    "import streamlit as st \n",
    "import pickle as pk\n",
    "pickle_in = open('1r.pkl', \"rb\")\n",
    "classifier = pk.load(pickle_in)\n",
    "\n",
    "st. header ('Pima-Diabets')\n",
    "st. title(\"Diabetes Prediction (Only for females above 21 years of Age)\")\n",
    "name = st. text_input (\"Name\")\n",
    "pregnancy = st. number_input (\"No, of times pregnant: \")\n",
    "glucose = st.number_input (\"Plasma Glucose Concentration: \")\n",
    "bp = st. number_input(\"Diastolic blood pressure (mn Hg)\")\n",
    "skin = st.number_input(\"Triceps skin fold thickness (mm): \")\n",
    "insulin = st.number_input(\"2-Hour serum insulin (mu U/ml): \")\n",
    "bmi = st. number_input (\"Body mass index (weight in kg/(height in m)~2): \")\n",
    "dpf = st. number_input(\"Diabetes Pedigree Function:\")\n",
    "age = st. number_input (\"Age:\")\n",
    "submit = st. button( \"Predict\")\n",
    "\n",
    "\n",
    "if submit:\n",
    "    prediction = classifier.predict([[pregnancy, glucose, bp, skin, insulin, bmi, dpf, age]])\n",
    "if prediction == 0:\n",
    "    st.write(f\"Congratulation {name} You are not diabetic\")\n",
    "\n",
    "else:\n",
    "    st. write(name, \"we are really sorry to say but it seems like you are Diabetic. But don't lose hope we have\")\n"
   ]
  }
 ],
 "metadata": {
  "language_info": {
   "name": "python"
  }
 },
 "nbformat": 4,
 "nbformat_minor": 2
}
