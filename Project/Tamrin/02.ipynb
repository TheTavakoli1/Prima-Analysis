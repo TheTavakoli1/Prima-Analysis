{
 "cells": [
  {
   "cell_type": "code",
   "execution_count": 17,
   "metadata": {},
   "outputs": [],
   "source": [
    "import numpy as np\n",
    "import pandas as pd\n",
    "import seaborn as sns\n",
    "import pickle as pkl\n",
    "from sklearn.impute import KNNImputer\n",
    "from sklearn import model_selection\n",
    "from sklearn.linear_model import LogisticRegression"
   ]
  },
  {
   "cell_type": "code",
   "execution_count": 18,
   "metadata": {},
   "outputs": [
    {
     "data": {
      "text/html": [
       "<div>\n",
       "<style scoped>\n",
       "    .dataframe tbody tr th:only-of-type {\n",
       "        vertical-align: middle;\n",
       "    }\n",
       "\n",
       "    .dataframe tbody tr th {\n",
       "        vertical-align: top;\n",
       "    }\n",
       "\n",
       "    .dataframe thead th {\n",
       "        text-align: right;\n",
       "    }\n",
       "</style>\n",
       "<table border=\"1\" class=\"dataframe\">\n",
       "  <thead>\n",
       "    <tr style=\"text-align: right;\">\n",
       "      <th></th>\n",
       "      <th>Preg</th>\n",
       "      <th>Plassma</th>\n",
       "      <th>Pres</th>\n",
       "      <th>Skin</th>\n",
       "      <th>Test</th>\n",
       "      <th>BMI</th>\n",
       "      <th>Pedi</th>\n",
       "      <th>Age</th>\n",
       "      <th>Class</th>\n",
       "    </tr>\n",
       "  </thead>\n",
       "  <tbody>\n",
       "    <tr>\n",
       "      <th>0</th>\n",
       "      <td>6</td>\n",
       "      <td>148</td>\n",
       "      <td>72</td>\n",
       "      <td>35</td>\n",
       "      <td>0</td>\n",
       "      <td>33.6</td>\n",
       "      <td>0.627</td>\n",
       "      <td>50</td>\n",
       "      <td>1</td>\n",
       "    </tr>\n",
       "    <tr>\n",
       "      <th>1</th>\n",
       "      <td>1</td>\n",
       "      <td>85</td>\n",
       "      <td>66</td>\n",
       "      <td>29</td>\n",
       "      <td>0</td>\n",
       "      <td>26.6</td>\n",
       "      <td>0.351</td>\n",
       "      <td>31</td>\n",
       "      <td>0</td>\n",
       "    </tr>\n",
       "    <tr>\n",
       "      <th>2</th>\n",
       "      <td>8</td>\n",
       "      <td>183</td>\n",
       "      <td>64</td>\n",
       "      <td>0</td>\n",
       "      <td>0</td>\n",
       "      <td>23.3</td>\n",
       "      <td>0.672</td>\n",
       "      <td>32</td>\n",
       "      <td>1</td>\n",
       "    </tr>\n",
       "    <tr>\n",
       "      <th>3</th>\n",
       "      <td>1</td>\n",
       "      <td>89</td>\n",
       "      <td>66</td>\n",
       "      <td>23</td>\n",
       "      <td>94</td>\n",
       "      <td>28.1</td>\n",
       "      <td>0.167</td>\n",
       "      <td>21</td>\n",
       "      <td>0</td>\n",
       "    </tr>\n",
       "    <tr>\n",
       "      <th>4</th>\n",
       "      <td>0</td>\n",
       "      <td>137</td>\n",
       "      <td>40</td>\n",
       "      <td>35</td>\n",
       "      <td>168</td>\n",
       "      <td>43.1</td>\n",
       "      <td>2.288</td>\n",
       "      <td>33</td>\n",
       "      <td>1</td>\n",
       "    </tr>\n",
       "  </tbody>\n",
       "</table>\n",
       "</div>"
      ],
      "text/plain": [
       "   Preg  Plassma  Pres  Skin  Test   BMI   Pedi  Age  Class\n",
       "0     6      148    72    35     0  33.6  0.627   50      1\n",
       "1     1       85    66    29     0  26.6  0.351   31      0\n",
       "2     8      183    64     0     0  23.3  0.672   32      1\n",
       "3     1       89    66    23    94  28.1  0.167   21      0\n",
       "4     0      137    40    35   168  43.1  2.288   33      1"
      ]
     },
     "execution_count": 18,
     "metadata": {},
     "output_type": "execute_result"
    }
   ],
   "source": [
    "df = pd.read_csv('pima-indians-diabetes.csv', names = ['Preg', 'Plassma', 'Pres', 'Skin', 'Test', 'BMI', 'Pedi', 'Age', 'Class'])\n",
    "df.head()"
   ]
  },
  {
   "cell_type": "code",
   "execution_count": 19,
   "metadata": {},
   "outputs": [
    {
     "data": {
      "text/plain": [
       "Preg         0\n",
       "Plassma      5\n",
       "Pres        35\n",
       "Skin       227\n",
       "Test       374\n",
       "BMI         11\n",
       "Pedi         0\n",
       "Age          0\n",
       "Class        0\n",
       "dtype: int64"
      ]
     },
     "execution_count": 19,
     "metadata": {},
     "output_type": "execute_result"
    }
   ],
   "source": [
    "# Find and delet Zero Values\n",
    "\n",
    "# df_without_zero = df[df != 0]\n",
    "# df_without_zero.isna().sum()\n",
    "\n",
    "# df_without_zero = df.replace(0, np.nan)\n",
    "df.replace({'Plassma' : 0, 'Pres' : 0, 'Skin' : 0, 'Test' : 0, 'BMI' : 0}, np.nan, inplace=True)\n",
    "df.isna().sum()\n"
   ]
  },
  {
   "cell_type": "code",
   "execution_count": 20,
   "metadata": {},
   "outputs": [],
   "source": [
    "Plassma_mean = df[df['Plassma'] != 0]['Plassma'].mean()\n",
    "df.replace({'Plassma' : np.nan}, Plassma_mean, inplace=True)\n",
    "\n",
    "Pres_mean = df[df['Pres'] != 0]['Pres'].mean()\n",
    "df.replace({'Pres' : np.nan}, Pres_mean, inplace=True)\n",
    "\n",
    "BMI_mean = df[df['BMI'] != 0]['BMI'].mean()\n",
    "df.replace({'BMI' : np.nan}, BMI_mean, inplace=True)\n"
   ]
  },
  {
   "cell_type": "code",
   "execution_count": 21,
   "metadata": {},
   "outputs": [
    {
     "data": {
      "text/plain": [
       "Preg         0\n",
       "Plassma      0\n",
       "Pres         0\n",
       "Skin       227\n",
       "Test       374\n",
       "BMI          0\n",
       "Pedi         0\n",
       "Age          0\n",
       "Class        0\n",
       "dtype: int64"
      ]
     },
     "execution_count": 21,
     "metadata": {},
     "output_type": "execute_result"
    }
   ],
   "source": [
    "df.isna().sum()"
   ]
  },
  {
   "cell_type": "code",
   "execution_count": null,
   "metadata": {},
   "outputs": [],
   "source": [
    "print(3.8 + (3 * 3.3))\n",
    "print(3.8 - (3 * 3.3))\n",
    "df[df['Preg'] >= 13.7]\n",
    "# sns.displot( df['Preg'], bins=50, kde=True  )\n",
    "sns.boxplot(df['Preg'])"
   ]
  },
  {
   "cell_type": "code",
   "execution_count": null,
   "metadata": {},
   "outputs": [],
   "source": [
    "print(120.8 + (3 * 31.9))\n",
    "print(120.8 - (3 * 31.9))\n",
    "df[df['Plassma'] <= 25.1]\n",
    "# sns.displot( df['Plassma'], bins=50, kde=True  )\n",
    "sns.boxplot(df['Plassma'])"
   ]
  },
  {
   "cell_type": "code",
   "execution_count": null,
   "metadata": {},
   "outputs": [],
   "source": [
    "print(72.4 + (3 * 12.3))\n",
    "print(72.4 - (3 * 12.3))\n",
    "# df[df['Plassma'] >= 109.3]\n",
    "# sns.displot( df['Plassma'], bins=50, kde=True  )\n",
    "sns.boxplot(df['Pres'])"
   ]
  },
  {
   "cell_type": "code",
   "execution_count": null,
   "metadata": {},
   "outputs": [],
   "source": [
    "print(29.1 + (3 * 10.4))\n",
    "print(29.1 - (3 * 10.4))\n",
    "# df[df['Skin'] >= 109.3]\n",
    "# sns.displot( df['Skin'], bins=50, kde=True)\n",
    "sns.boxplot(df['Skin'])"
   ]
  },
  {
   "cell_type": "code",
   "execution_count": null,
   "metadata": {},
   "outputs": [],
   "source": [
    "print(29.1 + (3 * 10.4))\n",
    "print(29.1 - (3 * 10.4))\n",
    "# df[df['Skin'] >= 60.3]\n",
    "# sns.displot( df['Skin'], bins=50, kde=True)\n",
    "sns.boxplot(df['Skin'])"
   ]
  },
  {
   "cell_type": "code",
   "execution_count": null,
   "metadata": {},
   "outputs": [],
   "source": [
    "print(155.5 + (3 * 118.7))\n",
    "print(155.5 - (3 * 118.7))\n",
    "# df[df['Test'] >= 511.6]\n",
    "# sns.displot( df['Test'], bins=50, kde=True)\n",
    "sns.boxplot(df['Test'])"
   ]
  },
  {
   "cell_type": "code",
   "execution_count": null,
   "metadata": {},
   "outputs": [],
   "source": [
    "# print(32.4 + (3 * 6.9))\n",
    "# print(32.4 - (3 * 6.9))\n",
    "# # df[df['BMI'] >= 53.1]\n",
    "sns.displot( df['BMI'], bins=50, kde=True)\n",
    "# sns.boxplot(df['BMI'])"
   ]
  },
  {
   "cell_type": "code",
   "execution_count": null,
   "metadata": {},
   "outputs": [],
   "source": [
    "print(0.4 + (3 * 0.3))\n",
    "print(0.4 - (3 * 0.3))\n",
    "# # df[df['Pedi'] >= 1.3]\n",
    "# sns.displot( df['Pedi'], bins=50, kde=True)\n",
    "sns.boxplot(df['Pedi'])"
   ]
  },
  {
   "cell_type": "code",
   "execution_count": null,
   "metadata": {},
   "outputs": [],
   "source": [
    "print(33.2 + (3 * 11.7))\n",
    "print(33.2 - (3 * 11.7))\n",
    "# # df[df['Age'] >= 68]\n",
    "sns.displot( df['Age'], bins=50, kde=True)\n",
    "# sns.boxplot(df['Age'])"
   ]
  },
  {
   "cell_type": "code",
   "execution_count": null,
   "metadata": {},
   "outputs": [],
   "source": [
    "impute = KNNImputer(n_neighbors=3)\n",
    "imputed_df = impute.fit_transform(df)"
   ]
  },
  {
   "cell_type": "code",
   "execution_count": null,
   "metadata": {},
   "outputs": [],
   "source": [
    "X = imputed_df[:, 0:8]\n",
    "Y = imputed_df[:, -1]\n",
    "X_train, X_test, Y_train, Y_test = model_selection.train_test_split(X, Y, test_size=0.33, random_state=7)\n",
    "# Fit the model on training set\n",
    "model = LogisticRegression()\n",
    "model. fit(X_train, Y_train)\n",
    "# save the model to disk\n",
    "filename = 'Diabet_model.pkl'\n",
    "pkl.dump(model, open(filename,'wb'))"
   ]
  }
 ],
 "metadata": {
  "kernelspec": {
   "display_name": "Project",
   "language": "python",
   "name": "python3"
  },
  "language_info": {
   "codemirror_mode": {
    "name": "ipython",
    "version": 3
   },
   "file_extension": ".py",
   "mimetype": "text/x-python",
   "name": "python",
   "nbconvert_exporter": "python",
   "pygments_lexer": "ipython3",
   "version": "3.12.3"
  }
 },
 "nbformat": 4,
 "nbformat_minor": 2
}
